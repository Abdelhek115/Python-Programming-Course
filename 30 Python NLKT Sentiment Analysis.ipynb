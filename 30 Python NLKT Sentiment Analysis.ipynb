{
 "cells": [
  {
   "cell_type": "code",
   "execution_count": 3,
   "metadata": {
    "collapsed": false,
    "scrolled": true
   },
   "outputs": [],
   "source": [
    "from nltk.classify import NaiveBayesClassifier\n",
    "from nltk.corpus import subjectivity\n",
    "from nltk.sentiment import SentimentAnalyzer\n",
    "from nltk.sentiment.util import *"
   ]
  },
  {
   "cell_type": "code",
   "execution_count": 16,
   "metadata": {
    "collapsed": true
   },
   "outputs": [],
   "source": [
    "n_instances = 100\n",
    "subj_docs = [(sent, 'subj') for sent in subjectivity.sents(categories='subj')[:n_instances]]\n",
    "obj_docs = [(sent, 'obj') for sent in subjectivity.sents(categories='obj')[:n_instances]]"
   ]
  },
  {
   "cell_type": "code",
   "execution_count": 17,
   "metadata": {
    "collapsed": false
   },
   "outputs": [],
   "source": [
    "train_subj_docs = subj_docs[:80]\n",
    "test_subj_docs = subj_docs[80:100]\n",
    "train_obj_docs = obj_docs[:80]\n",
    "test_obj_docs = obj_docs[80:100]"
   ]
  },
  {
   "cell_type": "code",
   "execution_count": 19,
   "metadata": {
    "collapsed": true
   },
   "outputs": [],
   "source": [
    "training_docs = train_subj_docs+train_obj_docs\n",
    "testing_docs = test_subj_docs+test_obj_docs"
   ]
  },
  {
   "cell_type": "code",
   "execution_count": 18,
   "metadata": {
    "collapsed": true
   },
   "outputs": [],
   "source": [
    "sentiment_analyzer = SentimentAnalyzer()"
   ]
  },
  {
   "cell_type": "code",
   "execution_count": 21,
   "metadata": {
    "collapsed": true
   },
   "outputs": [],
   "source": [
    "all_words_neg = sentiment_analyzer.all_words([mark_negation(doc) for doc in training_docs])"
   ]
  },
  {
   "cell_type": "code",
   "execution_count": 26,
   "metadata": {
    "collapsed": false
   },
   "outputs": [
    {
     "data": {
      "text/plain": [
       "3799"
      ]
     },
     "execution_count": 26,
     "metadata": {},
     "output_type": "execute_result"
    }
   ],
   "source": [
    "len(all_words_neg)"
   ]
  },
  {
   "cell_type": "code",
   "execution_count": 24,
   "metadata": {
    "collapsed": false
   },
   "outputs": [],
   "source": [
    "unigram_feats = sentiment_analyzer.unigram_word_feats(all_words_neg, min_freq=4)"
   ]
  },
  {
   "cell_type": "code",
   "execution_count": 25,
   "metadata": {
    "collapsed": false
   },
   "outputs": [
    {
     "data": {
      "text/plain": [
       "83"
      ]
     },
     "execution_count": 25,
     "metadata": {},
     "output_type": "execute_result"
    }
   ],
   "source": [
    "len(unigram_feats)"
   ]
  },
  {
   "cell_type": "code",
   "execution_count": 27,
   "metadata": {
    "collapsed": true
   },
   "outputs": [],
   "source": [
    "sentiment_analyzer.add_feat_extractor(extract_unigram_feats, unigrams=unigram_feats)"
   ]
  },
  {
   "cell_type": "code",
   "execution_count": 28,
   "metadata": {
    "collapsed": true
   },
   "outputs": [],
   "source": [
    "training_set = sentiment_analyzer.apply_features(training_docs)\n",
    "testing_set = sentiment_analyzer.apply_features(testing_docs)"
   ]
  },
  {
   "cell_type": "code",
   "execution_count": 30,
   "metadata": {
    "collapsed": false
   },
   "outputs": [
    {
     "name": "stdout",
     "output_type": "stream",
     "text": [
      "Training classifier\n"
     ]
    }
   ],
   "source": [
    "trainer = NaiveBayesClassifier.train\n",
    "clf = sentiment_analyzer.train(trainer, training_set)"
   ]
  },
  {
   "cell_type": "code",
   "execution_count": 33,
   "metadata": {
    "collapsed": false
   },
   "outputs": [
    {
     "name": "stdout",
     "output_type": "stream",
     "text": [
      "Evaluating NaiveBayesClassifier results...\n"
     ]
    },
    {
     "data": {
      "text/plain": [
       "{'Accuracy': 0.8,\n",
       " 'F-measure [obj]': 0.8,\n",
       " 'F-measure [subj]': 0.8,\n",
       " 'Precision [obj]': 0.8,\n",
       " 'Precision [subj]': 0.8,\n",
       " 'Recall [obj]': 0.8,\n",
       " 'Recall [subj]': 0.8}"
      ]
     },
     "execution_count": 33,
     "metadata": {},
     "output_type": "execute_result"
    }
   ],
   "source": [
    "sentiment_analyzer.evaluate(testing_set)"
   ]
  },
  {
   "cell_type": "code",
   "execution_count": 35,
   "metadata": {
    "collapsed": false
   },
   "outputs": [],
   "source": [
    "from nltk.sentiment.vader import SentimentIntensityAnalyzer"
   ]
  },
  {
   "cell_type": "code",
   "execution_count": 36,
   "metadata": {
    "collapsed": true
   },
   "outputs": [],
   "source": [
    "sent = \"VADER is smart, handsome, and funny.\""
   ]
  },
  {
   "cell_type": "code",
   "execution_count": 37,
   "metadata": {
    "collapsed": true
   },
   "outputs": [],
   "source": [
    "sentiment = SentimentIntensityAnalyzer()"
   ]
  },
  {
   "cell_type": "code",
   "execution_count": 39,
   "metadata": {
    "collapsed": false
   },
   "outputs": [
    {
     "data": {
      "text/plain": [
       "{'compound': 0.8316, 'neg': 0.0, 'neu': 0.254, 'pos': 0.746}"
      ]
     },
     "execution_count": 39,
     "metadata": {},
     "output_type": "execute_result"
    }
   ],
   "source": [
    "sentiment.polarity_scores(sent)"
   ]
  },
  {
   "cell_type": "code",
   "execution_count": 40,
   "metadata": {
    "collapsed": true
   },
   "outputs": [],
   "source": [
    "sentences = [\n",
    "\"VADER is smart, handsome, and funny.\", # positive sentence example\n",
    "\"VADER is smart, handsome, and funny!\", # punctuation emphasis handled correctly (sentiment intensity adjusted)\n",
    "\"VADER is very smart, handsome, and funny.\",  # booster words handled correctly (sentiment intensity adjusted)\n",
    "\"VADER is VERY SMART, handsome, and FUNNY.\",  # emphasis for ALLCAPS handled\n",
    "\"VADER is VERY SMART, handsome, and FUNNY!!!\",# combination of signals - VADER appropriately adjusts intensity\n",
    "\"VADER is VERY SMART, really handsome, and INCREDIBLY FUNNY!!!\",# booster words & punctuation make this close to ceiling for score\n",
    "\"The book was good.\",         # positive sentence\n",
    "\"The book was kind of good.\", # qualified positive sentence is handled correctly (intensity adjusted)\n",
    "\"The plot was good, but the characters are uncompelling and the dialog is not great.\", # mixed negation sentence\n",
    "\"A really bad, horrible book.\",       # negative sentence with booster words\n",
    "\"At least it isn't a horrible book.\", # negated negative sentence with contraction\n",
    "\":) and :D\",     # emoticons handled\n",
    "\"\",              # an empty string is correctly handled\n",
    "\"Today sux\",     #  negative slang handled\n",
    "\"Today sux!\",    #  negative slang with punctuation emphasis handled\n",
    "\"Today SUX!\",    #  negative slang with capitalization emphasis\n",
    "\"Today kinda sux! But I'll get by, lol\" # mixed sentiment example with slang and constrastive conjunction \"but\"\n",
    "]"
   ]
  },
  {
   "cell_type": "code",
   "execution_count": 41,
   "metadata": {
    "collapsed": true
   },
   "outputs": [],
   "source": [
    "paragraph = \"It was one of the worst movies I've seen, despite good reviews. \\\n",
    "Unbelievably bad acting!! Poor direction. VERY poor production. \\\n",
    "The movie was bad. Very bad movie. VERY bad movie. VERY BAD movie. VERY BAD movie!\""
   ]
  },
  {
   "cell_type": "code",
   "execution_count": 42,
   "metadata": {
    "collapsed": true
   },
   "outputs": [],
   "source": [
    "from nltk import tokenize\n",
    "lines_list = tokenize.sent_tokenize(paragraph)\n",
    "sentences.extend(lines_list)"
   ]
  },
  {
   "cell_type": "code",
   "execution_count": 43,
   "metadata": {
    "collapsed": true
   },
   "outputs": [],
   "source": [
    "tricky_sentences = [\n",
    "\"Most automated sentiment analysis tools are shit.\",\n",
    "\"VADER sentiment analysis is the shit.\",\n",
    "\"Sentiment analysis has never been good.\",\n",
    "\"Sentiment analysis with VADER has never been this good.\",\n",
    "\"Warren Beatty has never been so entertaining.\",\n",
    "\"I won't say that the movie is astounding and I wouldn't claim that \\\n",
    "the movie is too banal either.\",\n",
    "\"I like to hate Michael Bay films, but I couldn't fault this one\",\n",
    "\"It's one thing to watch an Uwe Boll film, but another thing entirely \\\n",
    "to pay for it\",\n",
    "\"The movie was too good\",\n",
    "\"This movie was actually neither that funny, nor super witty.\",\n",
    "\"This movie doesn't care about cleverness, wit or any other kind of \\\n",
    "intelligent humor.\",\n",
    "\"Those who find ugly meanings in beautiful things are corrupt without \\\n",
    "being charming.\",\n",
    "\"There are slow and repetitive parts, BUT it has just enough spice to \\\n",
    "keep it interesting.\",\n",
    "\"The script is not fantastic, but the acting is decent and the cinematography \\\n",
    "is EXCELLENT!\",\n",
    "\"Roger Dodger is one of the most compelling variations on this theme.\",\n",
    "\"Roger Dodger is one of the least compelling variations on this theme.\",\n",
    "\"Roger Dodger is at least compelling as a variation on the theme.\",\n",
    "\"they fall in love with the product\",\n",
    "\"but then it breaks\",\n",
    "\"usually around the time the 90 day warranty expires\",\n",
    "\"the twin towers collapsed today\",\n",
    "\"However, Mr. Carter solemnly argues, his client carried out the kidnapping \\\n",
    "under orders and in the ''least offensive way possible.''\"\n",
    "]"
   ]
  },
  {
   "cell_type": "code",
   "execution_count": 44,
   "metadata": {
    "collapsed": true
   },
   "outputs": [],
   "source": [
    "sentences.extend(tricky_sentences)"
   ]
  },
  {
   "cell_type": "code",
   "execution_count": 45,
   "metadata": {
    "collapsed": true
   },
   "outputs": [],
   "source": [
    "sid = SentimentIntensityAnalyzer()"
   ]
  },
  {
   "cell_type": "code",
   "execution_count": 47,
   "metadata": {
    "collapsed": false
   },
   "outputs": [
    {
     "name": "stdout",
     "output_type": "stream",
     "text": [
      "VADER is smart, handsome, and funny.\n",
      "{'neg': 0.0, 'pos': 0.746, 'neu': 0.254, 'compound': 0.8316}\n",
      "\n",
      "\n",
      "VADER is smart, handsome, and funny!\n",
      "{'neg': 0.0, 'pos': 0.752, 'neu': 0.248, 'compound': 0.8439}\n",
      "\n",
      "\n",
      "VADER is very smart, handsome, and funny.\n",
      "{'neg': 0.0, 'pos': 0.701, 'neu': 0.299, 'compound': 0.8545}\n",
      "\n",
      "\n",
      "VADER is VERY SMART, handsome, and FUNNY.\n",
      "{'neg': 0.0, 'pos': 0.754, 'neu': 0.246, 'compound': 0.9227}\n",
      "\n",
      "\n",
      "VADER is VERY SMART, handsome, and FUNNY!!!\n",
      "{'neg': 0.0, 'pos': 0.767, 'neu': 0.233, 'compound': 0.9342}\n",
      "\n",
      "\n",
      "VADER is VERY SMART, really handsome, and INCREDIBLY FUNNY!!!\n",
      "{'neg': 0.0, 'pos': 0.706, 'neu': 0.294, 'compound': 0.9469}\n",
      "\n",
      "\n",
      "The book was good.\n",
      "{'neg': 0.0, 'pos': 0.492, 'neu': 0.508, 'compound': 0.4404}\n",
      "\n",
      "\n",
      "The book was kind of good.\n",
      "{'neg': 0.0, 'pos': 0.343, 'neu': 0.657, 'compound': 0.3832}\n",
      "\n",
      "\n",
      "The plot was good, but the characters are uncompelling and the dialog is not great.\n",
      "{'neg': 0.327, 'pos': 0.094, 'neu': 0.579, 'compound': -0.7042}\n",
      "\n",
      "\n",
      "A really bad, horrible book.\n",
      "{'neg': 0.791, 'pos': 0.0, 'neu': 0.209, 'compound': -0.8211}\n",
      "\n",
      "\n",
      "At least it isn't a horrible book.\n",
      "{'neg': 0.0, 'pos': 0.363, 'neu': 0.637, 'compound': 0.431}\n",
      "\n",
      "\n",
      ":) and :D\n",
      "{'neg': 0.0, 'pos': 0.876, 'neu': 0.124, 'compound': 0.7925}\n",
      "\n",
      "\n",
      "\n",
      "{'neg': 0.0, 'pos': 0.0, 'neu': 0.0, 'compound': 0.0}\n",
      "\n",
      "\n",
      "Today sux\n",
      "{'neg': 0.714, 'pos': 0.0, 'neu': 0.286, 'compound': -0.3612}\n",
      "\n",
      "\n",
      "Today sux!\n",
      "{'neg': 0.736, 'pos': 0.0, 'neu': 0.264, 'compound': -0.4199}\n",
      "\n",
      "\n",
      "Today SUX!\n",
      "{'neg': 0.779, 'pos': 0.0, 'neu': 0.221, 'compound': -0.5461}\n",
      "\n",
      "\n",
      "Today kinda sux! But I'll get by, lol\n",
      "{'neg': 0.195, 'pos': 0.274, 'neu': 0.531, 'compound': 0.2228}\n",
      "\n",
      "\n",
      "It was one of the worst movies I've seen, despite good reviews.\n",
      "{'neg': 0.394, 'pos': 0.0, 'neu': 0.606, 'compound': -0.7584}\n",
      "\n",
      "\n",
      "Unbelievably bad acting!!\n",
      "{'neg': 0.686, 'pos': 0.0, 'neu': 0.314, 'compound': -0.6572}\n",
      "\n",
      "\n",
      "Poor direction.\n",
      "{'neg': 0.756, 'pos': 0.0, 'neu': 0.244, 'compound': -0.4767}\n",
      "\n",
      "\n",
      "VERY poor production.\n",
      "{'neg': 0.674, 'pos': 0.0, 'neu': 0.326, 'compound': -0.6281}\n",
      "\n",
      "\n",
      "The movie was bad.\n",
      "{'neg': 0.538, 'pos': 0.0, 'neu': 0.462, 'compound': -0.5423}\n",
      "\n",
      "\n",
      "Very bad movie.\n",
      "{'neg': 0.655, 'pos': 0.0, 'neu': 0.345, 'compound': -0.5849}\n",
      "\n",
      "\n",
      "VERY bad movie.\n",
      "{'neg': 0.694, 'pos': 0.0, 'neu': 0.306, 'compound': -0.6732}\n",
      "\n",
      "\n",
      "VERY BAD movie.\n",
      "{'neg': 0.724, 'pos': 0.0, 'neu': 0.276, 'compound': -0.7398}\n",
      "\n",
      "\n",
      "VERY BAD movie!\n",
      "{'neg': 0.735, 'pos': 0.0, 'neu': 0.265, 'compound': -0.7616}\n",
      "\n",
      "\n",
      "Most automated sentiment analysis tools are shit.\n",
      "{'neg': 0.375, 'pos': 0.0, 'neu': 0.625, 'compound': -0.5574}\n",
      "\n",
      "\n",
      "VADER sentiment analysis is the shit.\n",
      "{'neg': 0.0, 'pos': 0.444, 'neu': 0.556, 'compound': 0.6124}\n",
      "\n",
      "\n",
      "Sentiment analysis has never been good.\n",
      "{'neg': 0.325, 'pos': 0.0, 'neu': 0.675, 'compound': -0.3412}\n",
      "\n",
      "\n",
      "Sentiment analysis with VADER has never been this good.\n",
      "{'neg': 0.0, 'pos': 0.297, 'neu': 0.703, 'compound': 0.5228}\n",
      "\n",
      "\n",
      "Warren Beatty has never been so entertaining.\n",
      "{'neg': 0.0, 'pos': 0.384, 'neu': 0.616, 'compound': 0.5777}\n",
      "\n",
      "\n",
      "I won't say that the movie is astounding and I wouldn't claim that the movie is too banal either.\n",
      "{'neg': 0.0, 'pos': 0.149, 'neu': 0.851, 'compound': 0.4215}\n",
      "\n",
      "\n",
      "I like to hate Michael Bay films, but I couldn't fault this one\n",
      "{'neg': 0.157, 'pos': 0.309, 'neu': 0.534, 'compound': 0.3153}\n",
      "\n",
      "\n",
      "It's one thing to watch an Uwe Boll film, but another thing entirely to pay for it\n",
      "{'neg': 0.112, 'pos': 0.0, 'neu': 0.888, 'compound': -0.2541}\n",
      "\n",
      "\n",
      "The movie was too good\n",
      "{'neg': 0.0, 'pos': 0.42, 'neu': 0.58, 'compound': 0.4404}\n",
      "\n",
      "\n",
      "This movie was actually neither that funny, nor super witty.\n",
      "{'neg': 0.41, 'pos': 0.0, 'neu': 0.59, 'compound': -0.6759}\n",
      "\n",
      "\n",
      "This movie doesn't care about cleverness, wit or any other kind of intelligent humor.\n",
      "{'neg': 0.265, 'pos': 0.239, 'neu': 0.497, 'compound': -0.1338}\n",
      "\n",
      "\n",
      "Those who find ugly meanings in beautiful things are corrupt without being charming.\n",
      "{'neg': 0.314, 'pos': 0.192, 'neu': 0.493, 'compound': -0.3553}\n",
      "\n",
      "\n",
      "There are slow and repetitive parts, BUT it has just enough spice to keep it interesting.\n",
      "{'neg': 0.079, 'pos': 0.186, 'neu': 0.735, 'compound': 0.4678}\n",
      "\n",
      "\n",
      "The script is not fantastic, but the acting is decent and the cinematography is EXCELLENT!\n",
      "{'neg': 0.092, 'pos': 0.301, 'neu': 0.607, 'compound': 0.7565}\n",
      "\n",
      "\n",
      "Roger Dodger is one of the most compelling variations on this theme.\n",
      "{'neg': 0.0, 'pos': 0.166, 'neu': 0.834, 'compound': 0.2944}\n",
      "\n",
      "\n",
      "Roger Dodger is one of the least compelling variations on this theme.\n",
      "{'neg': 0.132, 'pos': 0.0, 'neu': 0.868, 'compound': -0.1695}\n",
      "\n",
      "\n",
      "Roger Dodger is at least compelling as a variation on the theme.\n",
      "{'neg': 0.0, 'pos': 0.16, 'neu': 0.84, 'compound': 0.2263}\n",
      "\n",
      "\n",
      "they fall in love with the product\n",
      "{'neg': 0.0, 'pos': 0.412, 'neu': 0.588, 'compound': 0.6369}\n",
      "\n",
      "\n",
      "but then it breaks\n",
      "{'neg': 0.0, 'pos': 0.0, 'neu': 1.0, 'compound': 0.0}\n",
      "\n",
      "\n",
      "usually around the time the 90 day warranty expires\n",
      "{'neg': 0.0, 'pos': 0.0, 'neu': 1.0, 'compound': 0.0}\n",
      "\n",
      "\n",
      "the twin towers collapsed today\n",
      "{'neg': 0.344, 'pos': 0.0, 'neu': 0.656, 'compound': -0.2732}\n",
      "\n",
      "\n",
      "However, Mr. Carter solemnly argues, his client carried out the kidnapping under orders and in the ''least offensive way possible.''\n",
      "{'neg': 0.23, 'pos': 0.074, 'neu': 0.697, 'compound': -0.5859}\n",
      "\n",
      "\n"
     ]
    }
   ],
   "source": [
    "for sentence in sentences:\n",
    "    print (sentence)\n",
    "    print (sid.polarity_scores(sentence))\n",
    "    print (\"\\n\")"
   ]
  },
  {
   "cell_type": "code",
   "execution_count": null,
   "metadata": {
    "collapsed": true
   },
   "outputs": [],
   "source": []
  }
 ],
 "metadata": {
  "anaconda-cloud": {},
  "kernelspec": {
   "display_name": "Python [Root]",
   "language": "python",
   "name": "Python [Root]"
  },
  "language_info": {
   "codemirror_mode": {
    "name": "ipython",
    "version": 3
   },
   "file_extension": ".py",
   "mimetype": "text/x-python",
   "name": "python",
   "nbconvert_exporter": "python",
   "pygments_lexer": "ipython3",
   "version": "3.5.2"
  }
 },
 "nbformat": 4,
 "nbformat_minor": 0
}
