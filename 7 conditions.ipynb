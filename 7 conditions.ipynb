{
 "cells": [
  {
   "cell_type": "code",
   "execution_count": 8,
   "metadata": {
    "collapsed": false
   },
   "outputs": [],
   "source": [
    "gpa = 3.3\n",
    "\n",
    "if gpa < 3:\n",
    "    print ('Accepted')"
   ]
  },
  {
   "cell_type": "code",
   "execution_count": 3,
   "metadata": {
    "collapsed": false
   },
   "outputs": [
    {
     "name": "stdout",
     "output_type": "stream",
     "text": [
      "Not accepted\n"
     ]
    }
   ],
   "source": [
    "if gpa > 3.4:\n",
    "    print ('Accepted')\n",
    "else:\n",
    "    print ('Not accepted')"
   ]
  },
  {
   "cell_type": "code",
   "execution_count": 6,
   "metadata": {
    "collapsed": false
   },
   "outputs": [
    {
     "name": "stdout",
     "output_type": "stream",
     "text": [
      "Accepted, with 2 extra courses\n"
     ]
    }
   ],
   "source": [
    "if gpa > 3.4:\n",
    "    print ('Accepted')\n",
    "elif gpa <= 3.3:\n",
    "    print ('Accepted, with 2 extra courses')\n",
    "else:\n",
    "    print ('Not accepted')"
   ]
  },
  {
   "cell_type": "code",
   "execution_count": 13,
   "metadata": {
    "collapsed": false
   },
   "outputs": [
    {
     "name": "stdout",
     "output_type": "stream",
     "text": [
      "Class D\n"
     ]
    }
   ],
   "source": [
    "gpa = 2.99\n",
    "\n",
    "\n",
    "if gpa >= 3.6 and gpa <= 4:\n",
    "    print ('Class A')\n",
    "elif gpa == 3.4 or gpa >= 3.5:\n",
    "    print ('Class B')\n",
    "elif not(gpa >= 3):\n",
    "    print ('Class D')\n",
    "else:\n",
    "    print ('Class C')"
   ]
  },
  {
   "cell_type": "code",
   "execution_count": null,
   "metadata": {
    "collapsed": true
   },
   "outputs": [],
   "source": []
  }
 ],
 "metadata": {
  "anaconda-cloud": {},
  "kernelspec": {
   "display_name": "Python [Root]",
   "language": "python",
   "name": "Python [Root]"
  },
  "language_info": {
   "codemirror_mode": {
    "name": "ipython",
    "version": 3
   },
   "file_extension": ".py",
   "mimetype": "text/x-python",
   "name": "python",
   "nbconvert_exporter": "python",
   "pygments_lexer": "ipython3",
   "version": "3.5.2"
  }
 },
 "nbformat": 4,
 "nbformat_minor": 0
}
