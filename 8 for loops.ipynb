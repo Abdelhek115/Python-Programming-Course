{
 "cells": [
  {
   "cell_type": "code",
   "execution_count": 1,
   "metadata": {
    "collapsed": false
   },
   "outputs": [
    {
     "name": "stdout",
     "output_type": "stream",
     "text": [
      "0\n",
      "1\n",
      "2\n",
      "3\n",
      "4\n",
      "5\n",
      "6\n",
      "7\n",
      "8\n",
      "9\n"
     ]
    }
   ],
   "source": [
    "for x in range(0, 10):\n",
    "    print (x)"
   ]
  },
  {
   "cell_type": "code",
   "execution_count": 3,
   "metadata": {
    "collapsed": false
   },
   "outputs": [],
   "source": [
    "names = ['Ali', 'Muhammad', 'Fuad', 'Mahmoud']"
   ]
  },
  {
   "cell_type": "code",
   "execution_count": 4,
   "metadata": {
    "collapsed": false
   },
   "outputs": [
    {
     "data": {
      "text/plain": [
       "['Ali', 'Muhammad', 'Fuad', 'Mahmoud']"
      ]
     },
     "execution_count": 4,
     "metadata": {},
     "output_type": "execute_result"
    }
   ],
   "source": [
    "names"
   ]
  },
  {
   "cell_type": "code",
   "execution_count": 5,
   "metadata": {
    "collapsed": false
   },
   "outputs": [
    {
     "name": "stdout",
     "output_type": "stream",
     "text": [
      "Ali\n",
      "Muhammad\n",
      "Fuad\n",
      "Mahmoud\n"
     ]
    }
   ],
   "source": [
    "for name in names:\n",
    "    print (name)"
   ]
  },
  {
   "cell_type": "code",
   "execution_count": 6,
   "metadata": {
    "collapsed": false
   },
   "outputs": [
    {
     "name": "stdout",
     "output_type": "stream",
     "text": [
      "1\n",
      "10\n",
      "100\n"
     ]
    }
   ],
   "source": [
    "for x in [1,10,100]:\n",
    "    print (x)"
   ]
  },
  {
   "cell_type": "code",
   "execution_count": 7,
   "metadata": {
    "collapsed": true
   },
   "outputs": [],
   "source": [
    "fuclties = ['FC','FS','FE','FM']\n",
    "data = [names, fuclties]"
   ]
  },
  {
   "cell_type": "code",
   "execution_count": 8,
   "metadata": {
    "collapsed": false
   },
   "outputs": [
    {
     "data": {
      "text/plain": [
       "[['Ali', 'Muhammad', 'Fuad', 'Mahmoud'], ['FC', 'FS', 'FE', 'FM']]"
      ]
     },
     "execution_count": 8,
     "metadata": {},
     "output_type": "execute_result"
    }
   ],
   "source": [
    "data"
   ]
  },
  {
   "cell_type": "code",
   "execution_count": 11,
   "metadata": {
    "collapsed": false
   },
   "outputs": [
    {
     "name": "stdout",
     "output_type": "stream",
     "text": [
      "Ali\n",
      "Muhammad\n",
      "Fuad\n",
      "Mahmoud\n",
      "\n",
      "\n",
      "FC\n",
      "FS\n",
      "FE\n",
      "FM\n",
      "\n",
      "\n"
     ]
    }
   ],
   "source": [
    "for x in range(0, len(data)):\n",
    "    for y in range(0, len(data[x])):\n",
    "        print (data[x][y])\n",
    "    print ('\\n')"
   ]
  },
  {
   "cell_type": "code",
   "execution_count": 22,
   "metadata": {
    "collapsed": false
   },
   "outputs": [
    {
     "name": "stdout",
     "output_type": "stream",
     "text": [
      "  1    2    3    4    5    6    7    8    9  10  11  12  \n",
      "  2    4    6    8  10  12  14  16  18  20  22  24  \n",
      "  3    6    9  12  15  18  21  24  27  30  33  36  \n",
      "  4    8  12  16  20  24  28  32  36  40  44  48  \n",
      "  5  10  15  20  25  30  35  40  45  50  55  60  \n",
      "  6  12  18  24  30  36  42  48  54  60  66  72  \n",
      "  7  14  21  28  35  42  49  56  63  70  77  84  \n",
      "  8  16  24  32  40  48  56  64  72  80  88  96  \n",
      "  9  18  27  36  45  54  63  72  81  90  99  108  \n",
      "10  20  30  40  50  60  70  80  90  100  110  120  \n",
      "11  22  33  44  55  66  77  88  99  110  121  132  \n",
      "12  24  36  48  60  72  84  96  108  120  132  144  \n"
     ]
    }
   ],
   "source": [
    "for row in range(1,13):\n",
    "    for column in range(1,13):\n",
    "        num = row*column\n",
    "        if num < 10:\n",
    "            print (end=\"  \")\n",
    "        print (num, end=\"  \")\n",
    "    print (\"\")"
   ]
  },
  {
   "cell_type": "code",
   "execution_count": null,
   "metadata": {
    "collapsed": true
   },
   "outputs": [],
   "source": []
  },
  {
   "cell_type": "code",
   "execution_count": null,
   "metadata": {
    "collapsed": true
   },
   "outputs": [],
   "source": []
  },
  {
   "cell_type": "code",
   "execution_count": null,
   "metadata": {
    "collapsed": true
   },
   "outputs": [],
   "source": []
  },
  {
   "cell_type": "code",
   "execution_count": null,
   "metadata": {
    "collapsed": true
   },
   "outputs": [],
   "source": []
  }
 ],
 "metadata": {
  "anaconda-cloud": {},
  "kernelspec": {
   "display_name": "Python [Root]",
   "language": "python",
   "name": "Python [Root]"
  },
  "language_info": {
   "codemirror_mode": {
    "name": "ipython",
    "version": 3
   },
   "file_extension": ".py",
   "mimetype": "text/x-python",
   "name": "python",
   "nbconvert_exporter": "python",
   "pygments_lexer": "ipython3",
   "version": "3.5.2"
  }
 },
 "nbformat": 4,
 "nbformat_minor": 0
}
