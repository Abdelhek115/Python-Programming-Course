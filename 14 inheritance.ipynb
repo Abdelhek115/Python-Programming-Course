{
 "cells": [
  {
   "cell_type": "code",
   "execution_count": 6,
   "metadata": {
    "collapsed": false
   },
   "outputs": [
    {
     "name": "stdout",
     "output_type": "stream",
     "text": [
      "Vehicle type is  Car\n"
     ]
    }
   ],
   "source": [
    "class Vehicle:\n",
    "    color = 'Yellow'\n",
    "    \n",
    "    def __init__(self, type):\n",
    "        print (\"Vehicle type is \", type)\n",
    "        \n",
    "    def move(self, speed):\n",
    "        print (\"this vehicle can move with a %s speed/h\" % speed)\n",
    "    \n",
    "    def setColor(self, color):\n",
    "        self.color = color\n",
    "        \n",
    "    def getColor(self):\n",
    "        print (\"this vehicle color is \", self.color)\n",
    "    \n",
    "    def fuel(self):\n",
    "        print (\"use diesel.\")\n",
    "\n",
    "car = Vehicle('Car')\n"
   ]
  },
  {
   "cell_type": "code",
   "execution_count": 7,
   "metadata": {
    "collapsed": false
   },
   "outputs": [
    {
     "name": "stdout",
     "output_type": "stream",
     "text": [
      "this vehicle color is  Yellow\n"
     ]
    }
   ],
   "source": [
    "car.getColor()"
   ]
  },
  {
   "cell_type": "code",
   "execution_count": 8,
   "metadata": {
    "collapsed": false
   },
   "outputs": [],
   "source": [
    "car.setColor('Blue')"
   ]
  },
  {
   "cell_type": "code",
   "execution_count": 9,
   "metadata": {
    "collapsed": false
   },
   "outputs": [
    {
     "name": "stdout",
     "output_type": "stream",
     "text": [
      "this vehicle color is  Blue\n"
     ]
    }
   ],
   "source": [
    "car.getColor()"
   ]
  },
  {
   "cell_type": "code",
   "execution_count": 10,
   "metadata": {
    "collapsed": false
   },
   "outputs": [
    {
     "name": "stdout",
     "output_type": "stream",
     "text": [
      "use diesel.\n"
     ]
    }
   ],
   "source": [
    "car.fuel()"
   ]
  },
  {
   "cell_type": "code",
   "execution_count": 12,
   "metadata": {
    "collapsed": false
   },
   "outputs": [
    {
     "name": "stdout",
     "output_type": "stream",
     "text": [
      "this vehicle can move with a 66 speed/h\n"
     ]
    }
   ],
   "source": [
    "car.move(66)"
   ]
  },
  {
   "cell_type": "code",
   "execution_count": 35,
   "metadata": {
    "collapsed": true
   },
   "outputs": [],
   "source": [
    "class Plane(Vehicle):\n",
    "    generalCode = 2222\n",
    "    __secretCode = 3333\n",
    "    def __init__(self):\n",
    "        print (\"this is a plane.\")\n",
    "    \n",
    "    def fly(self, speed):\n",
    "        print (\"can fly with %s speed/h\" % speed)\n",
    "    \n",
    "    def fuel(self):\n",
    "        print (\"use petrol.\")"
   ]
  },
  {
   "cell_type": "code",
   "execution_count": 36,
   "metadata": {
    "collapsed": false
   },
   "outputs": [
    {
     "name": "stdout",
     "output_type": "stream",
     "text": [
      "this is a plane.\n"
     ]
    }
   ],
   "source": [
    "p = Plane()"
   ]
  },
  {
   "cell_type": "code",
   "execution_count": 37,
   "metadata": {
    "collapsed": false
   },
   "outputs": [
    {
     "ename": "AttributeError",
     "evalue": "'Plane' object has no attribute 'secretCode'",
     "output_type": "error",
     "traceback": [
      "\u001b[0;31m---------------------------------------------------------------------------\u001b[0m",
      "\u001b[0;31mAttributeError\u001b[0m                            Traceback (most recent call last)",
      "\u001b[0;32m<ipython-input-37-27b6f394b47c>\u001b[0m in \u001b[0;36m<module>\u001b[0;34m()\u001b[0m\n\u001b[0;32m----> 1\u001b[0;31m \u001b[0mp\u001b[0m\u001b[0;34m.\u001b[0m\u001b[0msecretCode\u001b[0m\u001b[0;34m\u001b[0m\u001b[0m\n\u001b[0m",
      "\u001b[0;31mAttributeError\u001b[0m: 'Plane' object has no attribute 'secretCode'"
     ]
    }
   ],
   "source": [
    "p.secretCode"
   ]
  },
  {
   "cell_type": "code",
   "execution_count": 24,
   "metadata": {
    "collapsed": false
   },
   "outputs": [
    {
     "name": "stdout",
     "output_type": "stream",
     "text": [
      "can fly with 700 speed/h\n"
     ]
    }
   ],
   "source": [
    "p.fly(700)"
   ]
  },
  {
   "cell_type": "code",
   "execution_count": 25,
   "metadata": {
    "collapsed": false
   },
   "outputs": [
    {
     "name": "stdout",
     "output_type": "stream",
     "text": [
      "use petrol.\n"
     ]
    }
   ],
   "source": [
    "p.fuel()"
   ]
  },
  {
   "cell_type": "code",
   "execution_count": 26,
   "metadata": {
    "collapsed": false
   },
   "outputs": [
    {
     "name": "stdout",
     "output_type": "stream",
     "text": [
      "this vehicle color is  Yellow\n"
     ]
    }
   ],
   "source": [
    "p.getColor()"
   ]
  },
  {
   "cell_type": "code",
   "execution_count": 18,
   "metadata": {
    "collapsed": true
   },
   "outputs": [],
   "source": [
    "p.setColor('Green')"
   ]
  },
  {
   "cell_type": "code",
   "execution_count": 19,
   "metadata": {
    "collapsed": false
   },
   "outputs": [
    {
     "name": "stdout",
     "output_type": "stream",
     "text": [
      "this vehicle color is  Green\n"
     ]
    }
   ],
   "source": [
    "p.getColor()"
   ]
  },
  {
   "cell_type": "code",
   "execution_count": 21,
   "metadata": {
    "collapsed": false
   },
   "outputs": [
    {
     "name": "stdout",
     "output_type": "stream",
     "text": [
      "this vehicle can move with a 230 speed/h\n"
     ]
    }
   ],
   "source": [
    "p.move(230)"
   ]
  },
  {
   "cell_type": "code",
   "execution_count": null,
   "metadata": {
    "collapsed": true
   },
   "outputs": [],
   "source": []
  }
 ],
 "metadata": {
  "anaconda-cloud": {},
  "kernelspec": {
   "display_name": "Python [Root]",
   "language": "python",
   "name": "Python [Root]"
  },
  "language_info": {
   "codemirror_mode": {
    "name": "ipython",
    "version": 3
   },
   "file_extension": ".py",
   "mimetype": "text/x-python",
   "name": "python",
   "nbconvert_exporter": "python",
   "pygments_lexer": "ipython3",
   "version": "3.5.2"
  }
 },
 "nbformat": 4,
 "nbformat_minor": 0
}
